{
 "cells": [
  {
   "cell_type": "code",
   "id": "fbf20c5ce9bcb74b",
   "metadata": {
    "dotnet_interactive": {
     "language": "csharp"
    },
    "polyglot_notebook": {
     "kernelName": "csharp"
    },
    "ExecuteTime": {
     "end_time": "2024-12-20T04:33:19.393899Z",
     "start_time": "2024-12-20T04:33:19.374238Z"
    }
   },
   "source": [
    "import dotenv\n",
    "\n",
    "# 加载通用的环境变量，默认是.env\n",
    "dotenv.load_dotenv()\n"
   ],
   "outputs": [
    {
     "data": {
      "text/plain": [
       "True"
      ]
     },
     "execution_count": 1,
     "metadata": {},
     "output_type": "execute_result"
    }
   ],
   "execution_count": 1
  },
  {
   "cell_type": "code",
   "id": "bfd93cb6c1db805e",
   "metadata": {
    "ExecuteTime": {
     "end_time": "2024-12-20T04:33:40.206260Z",
     "start_time": "2024-12-20T04:33:34.888109Z"
    }
   },
   "source": [
    "from langchain_openai import ChatOpenAI\n",
    "from langchain.agents import AgentExecutor, create_openai_functions_agent\n",
    "from langchain.prompts import ChatPromptTemplate, MessagesPlaceholder\n",
    "from universal_email_tool import UniversalEmailTool, UniversalEmailToolReading\n",
    "\n",
    "\n",
    "# Initialize tools\n",
    "tools = [UniversalEmailTool(), UniversalEmailToolReading()]\n",
    "\n",
    "# Initialize the language model\n",
    "llm = ChatOpenAI(\n",
    "    temperature=0,\n",
    "    model_name=\"gpt-4o\" \n",
    ")\n",
    "\n",
    "# Create the prompt template\n",
    "prompt = ChatPromptTemplate.from_messages([\n",
    "    (\"system\", \"You are a helpful assistant that processes email requests, read and summarize emails.\"),\n",
    "    (\"human\", \"{input}\"),\n",
    "    MessagesPlaceholder(variable_name=\"agent_scratchpad\"),\n",
    "])\n",
    "\n",
    "# Create the agent\n",
    "agent = create_openai_functions_agent(llm, tools, prompt)\n",
    "agent_executor = AgentExecutor(\n",
    "    agent=agent,\n",
    "    tools=tools,\n",
    "    verbose=True,\n",
    "    handle_parsing_errors=True\n",
    ")"
   ],
   "outputs": [],
   "execution_count": 2
  },
  {
   "cell_type": "code",
   "id": "9b4c2f873c53d2e8",
   "metadata": {
    "ExecuteTime": {
     "end_time": "2024-12-20T04:33:44.413075Z",
     "start_time": "2024-12-20T04:33:40.933061Z"
    }
   },
   "source": [
    "input_data = \"\"\"向 1018150066@qq.com 发送一封主题为“代理测试电子邮件”且正文为“此电子邮件通过 LangChain 代理发送的电子邮件。'\"\"\"\n",
    "agent_executor.invoke({\"input\": input_data})"
   ],
   "outputs": [
    {
     "name": "stdout",
     "output_type": "stream",
     "text": [
      "\n",
      "\n",
      "\u001B[1m> Entering new AgentExecutor chain...\u001B[0m\n",
      "\u001B[32;1m\u001B[1;3m\n",
      "Invoking: `universal_email_sender` with `{'to': '1018150066@qq.com', 'subject': '代理测试电子邮件', 'body': '此电子邮件通过 LangChain 代理发送的电子邮件。'}`\n",
      "\n",
      "\n",
      "\u001B[0m\u001B[36;1m\u001B[1;3mEmail sent successfully via QQ to 1018150066@qq.com\u001B[0m\u001B[32;1m\u001B[1;3m电子邮件已成功发送至 1018150066@qq.com。\u001B[0m\n",
      "\n",
      "\u001B[1m> Finished chain.\u001B[0m\n"
     ]
    },
    {
     "data": {
      "text/plain": [
       "{'input': \"向 1018150066@qq.com 发送一封主题为“代理测试电子邮件”且正文为“此电子邮件通过 LangChain 代理发送的电子邮件。'\",\n",
       " 'output': '电子邮件已成功发送至 1018150066@qq.com。'}"
      ]
     },
     "execution_count": 3,
     "metadata": {},
     "output_type": "execute_result"
    }
   ],
   "execution_count": 3
  },
  {
   "cell_type": "code",
   "id": "106a6807710c83e2",
   "metadata": {
    "ExecuteTime": {
     "end_time": "2024-12-20T04:33:59.374193Z",
     "start_time": "2024-12-20T04:33:54.993453Z"
    }
   },
   "source": [
    "input_data = \"\"\"向 1018150066@qq.com 发送 HTML 电子邮件，将 CC 发送到 1909787671@qq.com，主题为“HTML 代理测试”，内容显示“来自代理的问候”作为标题，将“此电子邮件演示 HTML 格式”作为段落。'\"\"\"\n",
    "agent_executor.invoke({\"input\": input_data})"
   ],
   "outputs": [
    {
     "name": "stdout",
     "output_type": "stream",
     "text": [
      "\n",
      "\n",
      "\u001B[1m> Entering new AgentExecutor chain...\u001B[0m\n",
      "\u001B[32;1m\u001B[1;3m\n",
      "Invoking: `universal_email_sender` with `{'to': '1018150066@qq.com', 'cc': '1909787671@qq.com', 'subject': 'HTML 代理测试', 'body': '<h1>来自代理的问候</h1><p>此电子邮件演示 HTML 格式</p>', 'is_html': True}`\n",
      "\n",
      "\n",
      "\u001B[0m\u001B[36;1m\u001B[1;3mEmail sent successfully via QQ to 1018150066@qq.com with CC to 1909787671@qq.com\u001B[0m\u001B[32;1m\u001B[1;3m电子邮件已成功发送至 1018150066@qq.com，并抄送至 1909787671@qq.com。\u001B[0m\n",
      "\n",
      "\u001B[1m> Finished chain.\u001B[0m\n"
     ]
    },
    {
     "data": {
      "text/plain": [
       "{'input': \"向 1018150066@qq.com 发送 HTML 电子邮件，将 CC 发送到 1909787671@qq.com，主题为“HTML 代理测试”，内容显示“来自代理的问候”作为标题，将“此电子邮件演示 HTML 格式”作为段落。'\",\n",
       " 'output': '电子邮件已成功发送至 1018150066@qq.com，并抄送至 1909787671@qq.com。'}"
      ]
     },
     "execution_count": 4,
     "metadata": {},
     "output_type": "execute_result"
    }
   ],
   "execution_count": 4
  },
  {
   "cell_type": "code",
   "id": "f080677dbf4e97bf",
   "metadata": {
    "ExecuteTime": {
     "end_time": "2024-12-20T04:35:05.040334Z",
     "start_time": "2024-12-20T04:35:01.587382Z"
    }
   },
   "source": [
    "input_data = \"\"\"向 1018150066@qq.com 发送一封简短的电子邮件，谢谢他请喝酒'\"\"\"\n",
    "agent_executor.invoke({\"input\": input_data})"
   ],
   "outputs": [
    {
     "name": "stdout",
     "output_type": "stream",
     "text": [
      "\n",
      "\n",
      "\u001B[1m> Entering new AgentExecutor chain...\u001B[0m\n",
      "\u001B[32;1m\u001B[1;3m\n",
      "Invoking: `universal_email_sender` with `{'to': '1018150066@qq.com', 'subject': '感谢信', 'body': '谢谢你请我喝酒！'}`\n",
      "\n",
      "\n",
      "\u001B[0m\u001B[36;1m\u001B[1;3mEmail sent successfully via QQ to 1018150066@qq.com\u001B[0m\u001B[32;1m\u001B[1;3m邮件已成功发送至 1018150066@qq.com，内容为感谢他请喝酒。\u001B[0m\n",
      "\n",
      "\u001B[1m> Finished chain.\u001B[0m\n"
     ]
    },
    {
     "data": {
      "text/plain": [
       "{'input': \"向 1018150066@qq.com 发送一封简短的电子邮件，谢谢他请喝酒'\",\n",
       " 'output': '邮件已成功发送至 1018150066@qq.com，内容为感谢他请喝酒。'}"
      ]
     },
     "execution_count": 5,
     "metadata": {},
     "output_type": "execute_result"
    }
   ],
   "execution_count": 5
  },
  {
   "cell_type": "code",
   "id": "5f45a8711a9f2b45",
   "metadata": {
    "ExecuteTime": {
     "end_time": "2024-12-20T04:35:34.391735Z",
     "start_time": "2024-12-20T04:35:29.698127Z"
    }
   },
   "source": [
    "input_data = \"\"\"向 1018150066@qq.com 发送电子邮件，主题为“测试附件”，正文为“请找到附件的测试文件”，并附上 ./test.txt'\"\"\"\n",
    "agent_executor.invoke({\"input\": input_data})"
   ],
   "outputs": [
    {
     "name": "stdout",
     "output_type": "stream",
     "text": [
      "\n",
      "\n",
      "\u001B[1m> Entering new AgentExecutor chain...\u001B[0m\n",
      "\u001B[32;1m\u001B[1;3m\n",
      "Invoking: `universal_email_sender` with `{'to': '1018150066@qq.com', 'subject': '测试附件', 'body': '请找到附件的测试文件', 'attachment_path': './test.txt'}`\n",
      "\n",
      "\n",
      "\u001B[0m\u001B[36;1m\u001B[1;3mEmail sent successfully via QQ to 1018150066@qq.com\u001B[0m\u001B[32;1m\u001B[1;3m电子邮件已成功发送至 1018150066@qq.com，主题为“测试附件”，正文为“请找到附件的测试文件”，并附上了文件“test.txt”。\u001B[0m\n",
      "\n",
      "\u001B[1m> Finished chain.\u001B[0m\n"
     ]
    },
    {
     "data": {
      "text/plain": [
       "{'input': \"向 1018150066@qq.com 发送电子邮件，主题为“测试附件”，正文为“请找到附件的测试文件”，并附上 ./test.txt'\",\n",
       " 'output': '电子邮件已成功发送至 1018150066@qq.com，主题为“测试附件”，正文为“请找到附件的测试文件”，并附上了文件“test.txt”。'}"
      ]
     },
     "execution_count": 6,
     "metadata": {},
     "output_type": "execute_result"
    }
   ],
   "execution_count": 6
  },
  {
   "cell_type": "code",
   "id": "2655e4ac3fa07976",
   "metadata": {
    "ExecuteTime": {
     "end_time": "2024-12-20T04:36:07.662376Z",
     "start_time": "2024-12-20T04:36:00.802242Z"
    }
   },
   "source": [
    "input_data = \"\"\"阅读并总结我最近的 3 封电子邮件\"\"\"\n",
    "agent_executor.invoke({\"input\": input_data})"
   ],
   "outputs": [
    {
     "name": "stdout",
     "output_type": "stream",
     "text": [
      "\n",
      "\n",
      "\u001B[1m> Entering new AgentExecutor chain...\u001B[0m\n",
      "\u001B[32;1m\u001B[1;3m\n",
      "Invoking: `universal_email_reader` with `{'num_emails': 3}`\n",
      "\n",
      "\n",
      "\u001B[0m\u001B[33;1m\u001B[1;3mLatest 3 emails from QQ account:\n",
      "==================================================\n",
      "\n",
      "From: MSN Finance <microsoft.start@email2.microsoft.com>\n",
      "Subject: COMEX白银期货日内跌幅达5.0%，报29.2美元/盎司\n",
      "Content Summary: <!DOCTYPE html><html lang=\"zh-cn\"><head><meta charset=\"utf-8\"><meta content=\"width=device-width,initial-scale=1\" name=\"viewport\"><title lang=\"en\">MSN Finance</title><style media=\"screen and (max-width...\n",
      "--------------------------------------------------\n",
      "From: Streamlit Community <streamlitcommunity@snowflake.com>\n",
      "Subject: 🎈 Release 1.41 is here + join an exciting RAG hackathon!\n",
      "Content Summary: Streamlit Greetings, As 2024 is winding down, we want to take a moment to reflect on this amazing community, aka YOU! It’s been an exciting year full of creativity and innovation—every line of code, e...\n",
      "--------------------------------------------------\n",
      "From: Eclipse Foundation <newsletter@eclipse.org>\n",
      "Subject: 🌒 Security of Open Source Projects in 2024 and Jakarta Data\n",
      "Content Summary: Learn more about the latest news and updates from across the Eclipse community. View this email in your browser (https://us6.campaign-archive.com/?e=32e648eef7&u=eaf9e1f06f194eadc66788a85&id=2babd9da1...\n",
      "--------------------------------------------------\n",
      "==================================================\n",
      "End of email summaries.\u001B[0m\u001B[32;1m\u001B[1;3mHere are the summaries of your latest 3 emails:\n",
      "\n",
      "1. **From: MSN Finance**\n",
      "   - **Subject:** COMEX白银期货日内跌幅达5.0%，报29.2美元/盎司\n",
      "   - **Content Summary:** The email discusses a significant drop in COMEX silver futures, which fell by 5.0% to $29.2 per ounce.\n",
      "\n",
      "2. **From: Streamlit Community**\n",
      "   - **Subject:** 🎈 Release 1.41 is here + join an exciting RAG hackathon!\n",
      "   - **Content Summary:** The email reflects on the achievements of the Streamlit community in 2024, highlighting creativity and innovation. It also announces the release of version 1.41 and invites participation in an exciting RAG hackathon.\n",
      "\n",
      "3. **From: Eclipse Foundation**\n",
      "   - **Subject:** 🌒 Security of Open Source Projects in 2024 and Jakarta Data\n",
      "   - **Content Summary:** This email provides updates and news from the Eclipse community, focusing on the security of open-source projects in 2024 and information about Jakarta Data.\n",
      "\n",
      "If you need more details or further assistance, feel free to ask!\u001B[0m\n",
      "\n",
      "\u001B[1m> Finished chain.\u001B[0m\n"
     ]
    },
    {
     "data": {
      "text/plain": [
       "{'input': '阅读并总结我最近的 3 封电子邮件',\n",
       " 'output': 'Here are the summaries of your latest 3 emails:\\n\\n1. **From: MSN Finance**\\n   - **Subject:** COMEX白银期货日内跌幅达5.0%，报29.2美元/盎司\\n   - **Content Summary:** The email discusses a significant drop in COMEX silver futures, which fell by 5.0% to $29.2 per ounce.\\n\\n2. **From: Streamlit Community**\\n   - **Subject:** 🎈 Release 1.41 is here + join an exciting RAG hackathon!\\n   - **Content Summary:** The email reflects on the achievements of the Streamlit community in 2024, highlighting creativity and innovation. It also announces the release of version 1.41 and invites participation in an exciting RAG hackathon.\\n\\n3. **From: Eclipse Foundation**\\n   - **Subject:** 🌒 Security of Open Source Projects in 2024 and Jakarta Data\\n   - **Content Summary:** This email provides updates and news from the Eclipse community, focusing on the security of open-source projects in 2024 and information about Jakarta Data.\\n\\nIf you need more details or further assistance, feel free to ask!'}"
      ]
     },
     "execution_count": 7,
     "metadata": {},
     "output_type": "execute_result"
    }
   ],
   "execution_count": 7
  },
  {
   "cell_type": "code",
   "id": "6eac5df898cf668b",
   "metadata": {
    "ExecuteTime": {
     "end_time": "2024-12-20T04:36:35.721537Z",
     "start_time": "2024-12-20T04:36:24.725774Z"
    }
   },
   "source": [
    "input_data = \"\"\"显示我最近的 30 封电子邮件并且做分类总结\"\"\"\n",
    "agent_executor.invoke({\"input\": input_data})"
   ],
   "outputs": [
    {
     "name": "stdout",
     "output_type": "stream",
     "text": [
      "\n",
      "\n",
      "\u001B[1m> Entering new AgentExecutor chain...\u001B[0m\n",
      "\u001B[32;1m\u001B[1;3m\n",
      "Invoking: `universal_email_reader` with `{'num_emails': 30}`\n",
      "\n",
      "\n",
      "\u001B[0m\u001B[33;1m\u001B[1;3mLatest 30 emails from QQ account:\n",
      "==================================================\n",
      "\n",
      "From: MSN Finance <microsoft.start@email2.microsoft.com>\n",
      "Subject: COMEX白银期货日内跌幅达5.0%，报29.2美元/盎司\n",
      "Content Summary: <!DOCTYPE html><html lang=\"zh-cn\"><head><meta charset=\"utf-8\"><meta content=\"width=device-width,initial-scale=1\" name=\"viewport\"><title lang=\"en\">MSN Finance</title><style media=\"screen and (max-width...\n",
      "--------------------------------------------------\n",
      "From: Streamlit Community <streamlitcommunity@snowflake.com>\n",
      "Subject: 🎈 Release 1.41 is here + join an exciting RAG hackathon!\n",
      "Content Summary: Streamlit Greetings, As 2024 is winding down, we want to take a moment to reflect on this amazing community, aka YOU! It’s been an exciting year full of creativity and innovation—every line of code, e...\n",
      "--------------------------------------------------\n",
      "From: Eclipse Foundation <newsletter@eclipse.org>\n",
      "Subject: 🌒 Security of Open Source Projects in 2024 and Jakarta Data\n",
      "Content Summary: Learn more about the latest news and updates from across the Eclipse community. View this email in your browser (https://us6.campaign-archive.com/?e=32e648eef7&u=eaf9e1f06f194eadc66788a85&id=2babd9da1...\n",
      "--------------------------------------------------\n",
      "From: MSN =?utf-8?b?5q+P5pel?= <microsoft.start@email2.microsoft.com>\n",
      "Subject: 余华英案重审二审今日开庭 曾辩称5000元卖掉亲生儿子是抚养费\n",
      "Content Summary: <!DOCTYPE html><html lang=\"zh-cn\"><head><meta charset=\"utf-8\"><meta content=\"width=device-width,initial-scale=1\" name=\"viewport\"><title>MSN Daily</title><style media=\"screen and (max-width:600px)\" typ...\n",
      "--------------------------------------------------\n",
      "From: \"=?utf-8?B?6IW+6K6v6KeG6aKR?=\" <film@tencent.com>\n",
      "Subject: 会员服务到期提醒\n",
      "Content Summary: 您的会员服务即将到期 尊敬的用户，您QQ账号821058392的会员服务已过期。极速缓存、1080p大片等特权都将无法享受，积分已被冻结。快来开通会员，重享特权吧~ -20/天 V力值正在下降 0天后降为V0 0 积分已被冻结 续费即可使用积分兑换好礼 VIP会员新片 九重紫 猎罪图鉴2 剑来...\n",
      "--------------------------------------------------\n",
      "From: MSN Finance <microsoft.start@email2.microsoft.com>\n",
      "Subject: 国际原油期货结算价小幅收涨\n",
      "Content Summary: <!DOCTYPE html><html lang=\"zh-cn\"><head><meta charset=\"utf-8\"><meta content=\"width=device-width,initial-scale=1\" name=\"viewport\"><title lang=\"en\">MSN Finance</title><style media=\"screen and (max-width...\n",
      "--------------------------------------------------\n",
      "From: =?UTF-8?B?6Zi/6YeM5LqR?= <system@notice.aliyun.com>\n",
      "Subject: 解析记录删除通知\n",
      "Content Summary: 此邮件由阿里云发送，由系统自动发出，请勿直接回复，谢谢！ ![阿里云 logo](https://img.alicdn.com/tfs/TB13DzOjXP7gK0jSZFjXXc5aXXa-212-48.png) 产品 解决方案 文档与社区 免费试用 定价 云市场 了解阿里云 尊敬的用户 haisheng11a ： --- 您对域名haisheng666.xin进行了解析记录的删除操作。 | 记...\n",
      "--------------------------------------------------\n",
      "From: Stability AI <hello@email.stability.ai>\n",
      "Subject: What’s New at Stability AI?\n",
      "Content Summary: ControlNets are here for Stable Diffusion 3.5 Large! logo_h (https://d33TCH04.eu1.hubspotlinks.com/Ctc/UC+113/d33TCH04/VVXfD25nZB18W53x_qS4vkQdqW24t7JB5pL9lxN5bb0hn3lcq-W69sMD-6lZ3kKW63Lv9d4ZMc1YW1n85...\n",
      "--------------------------------------------------\n",
      "From: Craftwork <hello@mail.craftwork.design>\n",
      "Subject: 🚀 Fresh This Week: Must-Have Fonts, Framer Templates & UI Kits!\n",
      "Content Summary: Craftwork marketplace: https://craftwork.design/ Order custom design: https://craftwork.studio/...\n",
      "--------------------------------------------------\n",
      "From: MSN =?utf-8?b?5q+P5pel?= <microsoft.start@email2.microsoft.com>\n",
      "Subject: 专家：大城市才有机会的观点已过时 请放弃对北上广深执念\n",
      "Content Summary: <!DOCTYPE html><html lang=\"zh-cn\"><head><meta charset=\"utf-8\"><meta content=\"width=device-width,initial-scale=1\" name=\"viewport\"><title>MSN Daily</title><style media=\"screen and (max-width:600px)\" typ...\n",
      "--------------------------------------------------\n",
      "From: =?UTF-8?B?56iL5bqP5ZGY5a6i5qCI?= <service@mail.proginn.com>\n",
      "Subject: 您好，您有一个新的消息待处理.\n",
      "Content Summary: 您有一份的新的兼职工作，请前往程序员客栈APP或者web工作台接单，超过一小时未接单将自动取消，人员较多，接单后请等待我们的面试通知。点击前往查看详情 ![](https://etrack07.com/track/open2/eNpFTssKAjEQ-5fisVtm2pmdzs3_ECl12wVRd1lXT- K_Wx9gkktCCNmhUIM1xhqUQKTCXphCCl6VU4QomjCAW4...\n",
      "--------------------------------------------------\n",
      "From: Pieter de Villiers <hello@clickatell.com>\n",
      "Subject: The Future of Chat Commerce: A Message from Clickatell’s CEO\n",
      "Content Summary: Explore 2025 trends shaping chat commerce with AI insights. Hi Lu, As this remarkable year draws to a close, I want to express my deepest gratitude for your support, trust, and collaboration. In a wor...\n",
      "--------------------------------------------------\n",
      "From: =?UTF-8?B?6Zi/6YeM5LqR?= <monitor@monitor.aliyun.com>\n",
      "Subject: 您的专属安全周报已送达，建议您及时掌握资产安全态势，预防黑客入侵，破坏业务运行\n",
      "Content Summary: 此邮件由阿里云发送，由系统自动发出，请勿直接回复，谢谢！ ![阿里云 logo](https://img.alicdn.com/tfs/TB13DzOjXP7gK0jSZFjXXc5aXXa-212-48.png) 产品 解决方案 文档与社区 免费试用 定价 云市场 了解阿里云 | ![banner](https://img.alicdn.com/imgextra/i1/O1CN01oDs2Uv1...\n",
      "--------------------------------------------------\n",
      "From: MSN Finance <microsoft.start@email2.microsoft.com>\n",
      "Subject: 国际原油期货结算价收跌近1%\n",
      "Content Summary: <!DOCTYPE html><html lang=\"zh-cn\"><head><meta charset=\"utf-8\"><meta content=\"width=device-width,initial-scale=1\" name=\"viewport\"><title lang=\"en\">MSN Finance</title><style media=\"screen and (max-width...\n",
      "--------------------------------------------------\n",
      "From: =?UTF-8?B?6Zi/6YeM5LqR?= <system@notice.aliyun.com>\n",
      "Subject: 云解析解析记录修改通知\n",
      "Content Summary: 此邮件由阿里云发送，由系统自动发出，请勿直接回复，谢谢！ ![阿里云 logo](https://img.alicdn.com/tfs/TB13DzOjXP7gK0jSZFjXXc5aXXa-212-48.png) 产品 解决方案 文档与社区 免费试用 定价 云市场 了解阿里云 尊敬的用户：haisheng11a --- 您于2024-12-18 02:53:11(UTC+8)对域名haishen...\n",
      "--------------------------------------------------\n",
      "From: ChessBase <chessletter@chessbase.com>\n",
      "Subject: 💡New 60 Minutes video courses and ChessBase 18 video tutorial\n",
      "Content Summary: How to find a player behind their online profile with ChessBase 18! ͏ ͏ ͏ ͏ ͏ ͏ ͏ ͏ ͏ ͏ ͏ ͏ ͏ ͏ ͏ ͏ ͏ ͏ ͏ ͏ ͏ ͏ ͏ ͏ ͏ ͏ ͏ ͏ ͏ ͏ ͏ ͏ ͏ ͏ ͏ ͏ ͏ ͏ ͏ ͏ ͏ ͏ ͏ ͏ ͏ ͏ ͏ ͏ ͏ ͏ ͏ ͏ ͏ ͏ ͏ ͏ ͏ ͏ ͏ ͏ ͏ ͏ ͏ ͏ ͏ ͏ ...\n",
      "--------------------------------------------------\n",
      "From: =?UTF-8?B?5Y2O55ub6K+B5Yi4?= <service@mailservice.hstong.com>\n",
      "Subject: 【美股策略】2025年机构布局大揭秘！这三大方向备受瞩目，该如何跟进？ \n",
      "Content Summary: ![](https://r.hstong.com/public/mail/image/top-cn.png) --- | ** ** 尊敬的客户： 本周，全球焦点无疑是美联储利率决议！**鲍威尔的讲话将深刻影响市场走向** ，您准备好迎接这场\"政策风暴\"了吗？特朗普即将重返白宫，投资方向有望重塑，**多家机构已经给出预判，关注这三个方向，未来布局机会就在眼前！** 个股方面，**AI垄断 \"破局者...\n",
      "--------------------------------------------------\n",
      "From: =?UTF-8?B?6Zi/6YeM5LqR?= <newsletter@newsletter.aliyun.com>\n",
      "Subject: 邀您有奖体验 Serverless 高可用架构\n",
      "Content Summary: 此邮件由阿里云发送，由系统自动发出，请勿直接回复，谢谢！ ![阿里云 logo](https://img.alicdn.com/tfs/TB13DzOjXP7gK0jSZFjXXc5aXXa-212-48.png) 产品 解决方案 文档与社区 免费试用 定价 云市场 了解阿里云 点击跳转： ![](https://img.alicdn.com/imgextra/i1/O1CN01hZr1Fd253...\n",
      "--------------------------------------------------\n",
      "From: MSN =?utf-8?b?5q+P5pel?= <microsoft.start@email2.microsoft.com>\n",
      "Subject: 128年来最早的冬至！今年12月21日17时20分20秒进入冬至\n",
      "Content Summary: <!DOCTYPE html><html lang=\"zh-cn\"><head><meta charset=\"utf-8\"><meta content=\"width=device-width,initial-scale=1\" name=\"viewport\"><title>MSN Daily</title><style media=\"screen and (max-width:600px)\" typ...\n",
      "--------------------------------------------------\n",
      "From: \"=?utf-8?B?6IW+6K6v6KeG6aKR?=\" <film@tencent.com>\n",
      "Subject: 会员服务即将到期提醒\n",
      "Content Summary: 您的会员服务即将到期 尊敬的用户821058392（QQ账号），您的腾讯视频VIP服务明天即将到期。极速缓存、1080p大片等特权都将无法享受，习惯了享受，怎么能将就，现在就去续期 >> VIP会员新片 九重紫 猎罪图鉴2 剑来...\n",
      "--------------------------------------------------\n",
      "From: MSN Finance <microsoft.start@email2.microsoft.com>\n",
      "Subject: 降息25个基点?美联储消息即将发布\n",
      "Content Summary: <!DOCTYPE html><html lang=\"zh-cn\"><head><meta charset=\"utf-8\"><meta content=\"width=device-width,initial-scale=1\" name=\"viewport\"><title lang=\"en\">MSN Finance</title><style media=\"screen and (max-width...\n",
      "--------------------------------------------------\n",
      "From: =?UTF-8?B?6Zi/6YeM5LqR?= <system@notice.aliyun.com>\n",
      "Subject: 云解析解析记录修改通知\n",
      "Content Summary: 此邮件由阿里云发送，由系统自动发出，请勿直接回复，谢谢！ ![阿里云 logo](https://img.alicdn.com/tfs/TB13DzOjXP7gK0jSZFjXXc5aXXa-212-48.png) 产品 解决方案 文档与社区 免费试用 定价 云市场 了解阿里云 尊敬的用户：haisheng11a --- 您于2024-12-17 02:51:24(UTC+8)对域名haishen...\n",
      "--------------------------------------------------\n",
      "From: =?utf-8?B?5Y+I5ouN5LqR?=<UPAI@momail1.upyun.com>\n",
      "Subject: 又拍云年底特惠，CDN充值高返赠，SSL证书低至1折起\n",
      "Content Summary: <div data-lark-html-role=\"root\"> <div data-lark-html-role=\"root\"> <div> <span style=\"font-size:16px;\">亲爱的用户，感谢您一直以来对又拍云的信赖与支持。</span></div> <div> <span style=\"font-size:16px;\">岁末将至，又拍云特别奉上年底特惠活动，助您轻松加...\n",
      "--------------------------------------------------\n",
      "From: =?UTF-8?B?6Zi/6YeM5LqR?= <system@notice.aliyun.com>\n",
      "Subject: 阿里云定制化翻译服务平台创建或开通成功通知\n",
      "Content Summary: 此邮件由阿里云发送，由系统自动发出，请勿直接回复，谢谢！ ![阿里云 logo](https://img.alicdn.com/tfs/TB13DzOjXP7gK0jSZFjXXc5aXXa-212-48.png) 产品 解决方案 文档与社区 免费试用 定价 云市场 了解阿里云 尊敬的haisheng11a： 您的uid:1187578438906313下 1个定制化翻译服务平台实例创建成功。 请...\n",
      "--------------------------------------------------\n",
      "From: =?UTF-8?B?6Zi/6YeM5LqR?= <system@notice.aliyun.com>\n",
      "Subject: 阿里云机器翻译 通用版/专业版创建或开通成功通知\n",
      "Content Summary: 此邮件由阿里云发送，由系统自动发出，请勿直接回复，谢谢！ ![阿里云 logo](https://img.alicdn.com/tfs/TB13DzOjXP7gK0jSZFjXXc5aXXa-212-48.png) 产品 解决方案 文档与社区 免费试用 定价 云市场 了解阿里云 尊敬的haisheng11a： 您的uid:1187578438906313下 1个机器翻译 通用版/专业版实例创建成功...\n",
      "--------------------------------------------------\n",
      "From: MSN =?utf-8?b?5q+P5pel?= <microsoft.start@email2.microsoft.com>\n",
      "Subject: 极越CEO夏一平发文反思：早期过于乐观，没有预见到资金问题的严重性\n",
      "Content Summary: <!DOCTYPE html><html lang=\"zh-cn\"><head><meta charset=\"utf-8\"><meta content=\"width=device-width,initial-scale=1\" name=\"viewport\"><title>MSN Daily</title><style media=\"screen and (max-width:600px)\" typ...\n",
      "--------------------------------------------------\n",
      "From: MSN Finance <microsoft.start@email2.microsoft.com>\n",
      "Subject: 建设银行新提交5件商标注册申请\n",
      "Content Summary: <!DOCTYPE html><html lang=\"zh-cn\"><head><meta charset=\"utf-8\"><meta content=\"width=device-width,initial-scale=1\" name=\"viewport\"><title lang=\"en\">MSN Finance</title><style media=\"screen and (max-width...\n",
      "--------------------------------------------------\n",
      "From: =?UTF-8?B?6Zi/6YeM5LqR?= <system@notice.aliyun.com>\n",
      "Subject: 云解析解析记录修改通知\n",
      "Content Summary: 此邮件由阿里云发送，由系统自动发出，请勿直接回复，谢谢！ ![阿里云 logo](https://img.alicdn.com/tfs/TB13DzOjXP7gK0jSZFjXXc5aXXa-212-48.png) 产品 解决方案 文档与社区 免费试用 定价 云市场 了解阿里云 尊敬的用户：haisheng11a --- 您于2024-12-16 02:54:36(UTC+8)对域名haishen...\n",
      "--------------------------------------------------\n",
      "From: \"Microsoft Azure\" <Azure@promomail.microsoft.com>\n",
      "Subject:      广告：使用服务运行状况警报，提高 Azure 帐户的安全性\n",
      "Content Summary: <!DOCTYPE HTML> <html xmlns=\"http://www.w3.org/1999/xhtml\" xmlns:o=\"urn:schemas-microsoft-com:office:office\" xmlns:v=\"urn:schemas-microsoft-com:vml\" dir=\"ltr\" lang=\"zh-cn\"> <head> <!--[if gte mso 9]> ...\n",
      "--------------------------------------------------\n",
      "From: Sphero <sphero@sphero.com>\n",
      "Subject: 🎁 Last-Minute Magic: Gifts They'll Love!\n",
      "Content Summary: Get your gifts by Dec 22: See our shipping schedulehttps://sphero.com/ Shop https://sphero.com/collections/all Create https://sphero.com/pages/activities Teach https://sphero.com/pages/educators Compe...\n",
      "--------------------------------------------------\n",
      "==================================================\n",
      "End of email summaries.\u001B[0m\u001B[32;1m\u001B[1;3mHere is a categorized summary of your latest 30 emails:\n",
      "\n",
      "### Financial and Market Updates\n",
      "1. **MSN Finance**: Updates on COMEX silver futures, international crude oil futures, and interest rate changes by the Federal Reserve.\n",
      "2. **美股策略**: Insights on 2025 investment strategies and market trends.\n",
      "\n",
      "### Technology and Software\n",
      "1. **Streamlit Community**: Announcement of Release 1.41 and an upcoming hackathon.\n",
      "2. **Stability AI**: Introduction of ControlNets for Stable Diffusion 3.5.\n",
      "3. **ChessBase**: New video courses and tutorials for ChessBase 18.\n",
      "4. **Microsoft Azure**: Security alerts and service health updates.\n",
      "\n",
      "### Cloud Services and IT\n",
      "1. **阿里云 (Aliyun)**: Notifications about DNS record changes, security reports, and new service activations.\n",
      "2. **又拍云 (UPYUN)**: Year-end promotions on CDN and SSL certificates.\n",
      "\n",
      "### Membership and Subscription\n",
      "1. **腾讯视频 (Tencent Video)**: Reminders about expiring VIP services.\n",
      "2. **Eclipse Foundation**: Updates on open-source project security.\n",
      "\n",
      "### News and General Information\n",
      "1. **MSN Daily**: Various news articles including legal cases and expert opinions on urban opportunities.\n",
      "2. **极越CEO**: Reflections on financial challenges by the CEO of 极越.\n",
      "\n",
      "### Promotions and Offers\n",
      "1. **Sphero**: Last-minute gift ideas and shipping schedules.\n",
      "2. **Craftwork**: New fonts, templates, and UI kits available.\n",
      "\n",
      "### Miscellaneous\n",
      "1. **Clickatell**: Future trends in chat commerce.\n",
      "2. **Programmer's Inn**: New job opportunities and notifications.\n",
      "\n",
      "These summaries provide a quick overview of the content and themes of your recent emails.\u001B[0m\n",
      "\n",
      "\u001B[1m> Finished chain.\u001B[0m\n"
     ]
    },
    {
     "data": {
      "text/plain": [
       "{'input': '显示我最近的 30 封电子邮件并且做分类总结',\n",
       " 'output': \"Here is a categorized summary of your latest 30 emails:\\n\\n### Financial and Market Updates\\n1. **MSN Finance**: Updates on COMEX silver futures, international crude oil futures, and interest rate changes by the Federal Reserve.\\n2. **美股策略**: Insights on 2025 investment strategies and market trends.\\n\\n### Technology and Software\\n1. **Streamlit Community**: Announcement of Release 1.41 and an upcoming hackathon.\\n2. **Stability AI**: Introduction of ControlNets for Stable Diffusion 3.5.\\n3. **ChessBase**: New video courses and tutorials for ChessBase 18.\\n4. **Microsoft Azure**: Security alerts and service health updates.\\n\\n### Cloud Services and IT\\n1. **阿里云 (Aliyun)**: Notifications about DNS record changes, security reports, and new service activations.\\n2. **又拍云 (UPYUN)**: Year-end promotions on CDN and SSL certificates.\\n\\n### Membership and Subscription\\n1. **腾讯视频 (Tencent Video)**: Reminders about expiring VIP services.\\n2. **Eclipse Foundation**: Updates on open-source project security.\\n\\n### News and General Information\\n1. **MSN Daily**: Various news articles including legal cases and expert opinions on urban opportunities.\\n2. **极越CEO**: Reflections on financial challenges by the CEO of 极越.\\n\\n### Promotions and Offers\\n1. **Sphero**: Last-minute gift ideas and shipping schedules.\\n2. **Craftwork**: New fonts, templates, and UI kits available.\\n\\n### Miscellaneous\\n1. **Clickatell**: Future trends in chat commerce.\\n2. **Programmer's Inn**: New job opportunities and notifications.\\n\\nThese summaries provide a quick overview of the content and themes of your recent emails.\"}"
      ]
     },
     "execution_count": 8,
     "metadata": {},
     "output_type": "execute_result"
    }
   ],
   "execution_count": 8
  },
  {
   "cell_type": "code",
   "execution_count": null,
   "id": "c6b8ea0e5061c06e",
   "metadata": {},
   "outputs": [],
   "source": []
  }
 ],
 "metadata": {
  "kernelspec": {
   "display_name": "langchain_universal_tools",
   "language": "python",
   "name": "python3"
  },
  "language_info": {
   "codemirror_mode": {
    "name": "ipython",
    "version": 3
   },
   "file_extension": ".py",
   "mimetype": "text/x-python",
   "name": "python",
   "nbconvert_exporter": "python",
   "pygments_lexer": "ipython3",
   "version": "3.11.9"
  },
  "polyglot_notebook": {
   "kernelInfo": {
    "defaultKernelName": "csharp",
    "items": [
     {
      "aliases": [],
      "name": "csharp"
     }
    ]
   }
  }
 },
 "nbformat": 4,
 "nbformat_minor": 5
}
