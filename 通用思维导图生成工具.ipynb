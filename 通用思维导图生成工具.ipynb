{
 "cells": [
  {
   "cell_type": "code",
   "execution_count": 1,
   "metadata": {},
   "outputs": [
    {
     "data": {
      "text/plain": [
       "True"
      ]
     },
     "execution_count": 1,
     "metadata": {},
     "output_type": "execute_result"
    }
   ],
   "source": [
    "import dotenv\n",
    "\n",
    "# 加载通用的环境变量，默认是.env\n",
    "dotenv.load_dotenv()"
   ]
  },
  {
   "cell_type": "code",
   "execution_count": 2,
   "metadata": {},
   "outputs": [],
   "source": [
    "from langchain_openai import ChatOpenAI\n",
    "from langchain.agents import AgentExecutor, create_openai_functions_agent\n",
    "from langchain.prompts import ChatPromptTemplate, MessagesPlaceholder\n",
    "from universal_mindmap_tool import UniversalMindMapTool, UniversalMindMapToolReading\n",
    "\n",
    "# Initialize tools\n",
    "tools = [UniversalMindMapTool(), UniversalMindMapToolReading()]\n",
    "\n",
    "# Initialize the language model\n",
    "llm = ChatOpenAI(\n",
    "    temperature=0,\n",
    "    model_name=\"gpt-4o\"\n",
    ")\n",
    "\n",
    "# Create the prompt template\n",
    "prompt = ChatPromptTemplate.from_messages([\n",
    "    (\"system\", \"你是一个专业的思维导图生成助手，可以根据用户提供的主题自动生成详细的思维导图。\"),\n",
    "    (\"human\", \"{input}\"),\n",
    "    MessagesPlaceholder(variable_name=\"agent_scratchpad\"),\n",
    "])\n",
    "\n",
    "# Create the agent\n",
    "agent = create_openai_functions_agent(llm, tools, prompt)\n",
    "agent_executor = AgentExecutor(\n",
    "    agent=agent,\n",
    "    tools=tools,\n",
    "    verbose=True,\n",
    "    handle_parsing_errors=True\n",
    ")"
   ]
  },
  {
   "cell_type": "code",
   "execution_count": 3,
   "metadata": {},
   "outputs": [
    {
     "name": "stdout",
     "output_type": "stream",
     "text": [
      "\n",
      "\n",
      "\u001b[1m> Entering new AgentExecutor chain...\u001b[0m\n",
      "\u001b[32;1m\u001b[1;3m\n",
      "Invoking: `mindmap_generator` with `{'topic': '主流编程语言c/c++，c#，java，python，go对比分析'}`\n",
      "\n",
      "\n",
      "\u001b[0m\u001b[36;1m\u001b[1;3m{'freemind': 'output/mindmap\\\\主流编程语言对比分析.mm', 'opml': 'output/mindmap\\\\主流编程语言对比分析.opml', 'xmind': 'output/mindmap\\\\主流编程语言对比分析.xmind', 'mindmanager': 'output/mindmap\\\\主流编程语言对比分析.mmap'}\u001b[0m\u001b[32;1m\u001b[1;3m我已经为您生成了关于“主流编程语言C/C++，C#，Java，Python，Go对比分析”的思维导图。您可以下载以下格式的文件：\n",
      "\n",
      "- [Freemind格式](sandbox:/output/mindmap/主流编程语言对比分析.mm)\n",
      "- [OPML格式](sandbox:/output/mindmap/主流编程语言对比分析.opml)\n",
      "- [XMind格式](sandbox:/output/mindmap/主流编程语言对比分析.xmind)\n",
      "- [MindManager格式](sandbox:/output/mindmap/主流编程语言对比分析.mmap)\n",
      "\n",
      "请根据您的需要选择合适的格式进行查看。\u001b[0m\n",
      "\n",
      "\u001b[1m> Finished chain.\u001b[0m\n",
      "\n",
      "生成结果：\n",
      "{'input': \"请生成一个关于'主流编程语言c/c++，c#，java，python，go对比分析'的思维导图。\", 'output': '我已经为您生成了关于“主流编程语言C/C++，C#，Java，Python，Go对比分析”的思维导图。您可以下载以下格式的文件：\\n\\n- [Freemind格式](sandbox:/output/mindmap/主流编程语言对比分析.mm)\\n- [OPML格式](sandbox:/output/mindmap/主流编程语言对比分析.opml)\\n- [XMind格式](sandbox:/output/mindmap/主流编程语言对比分析.xmind)\\n- [MindManager格式](sandbox:/output/mindmap/主流编程语言对比分析.mmap)\\n\\n请根据您的需要选择合适的格式进行查看。'}\n"
     ]
    }
   ],
   "source": [
    "topic = \"主流编程语言c/c++，c#，java，python，go对比分析\"\n",
    "result = agent_executor.invoke({\n",
    "    \"input\": f\"请生成一个关于'{topic}'的思维导图。\"\n",
    "})\n",
    "print(\"\\n生成结果：\")\n",
    "print(result)"
   ]
  },
  {
   "cell_type": "code",
   "execution_count": 4,
   "metadata": {},
   "outputs": [
    {
     "name": "stdout",
     "output_type": "stream",
     "text": [
      "\n",
      "\n",
      "\u001b[1m> Entering new AgentExecutor chain...\u001b[0m\n",
      "\u001b[32;1m\u001b[1;3m\n",
      "Invoking: `mindmap_generator` with `{'topic': '2025年的创业机遇有哪些？多维度说明'}`\n",
      "\n",
      "\n",
      "\u001b[0m\u001b[36;1m\u001b[1;3m{'freemind': 'output/mindmap\\\\2025年的创业机遇.mm', 'opml': 'output/mindmap\\\\2025年的创业机遇.opml', 'xmind': 'output/mindmap\\\\2025年的创业机遇.xmind', 'mindmanager': 'output/mindmap\\\\2025年的创业机遇.mmap'}\u001b[0m\u001b[32;1m\u001b[1;3m我已经为你生成了关于“2025年的创业机遇有哪些？多维度说明”的思维导图。你可以下载以下格式的文件：\n",
      "\n",
      "- [Freemind格式](sandbox:/output/mindmap/2025年的创业机遇.mm)\n",
      "- [OPML格式](sandbox:/output/mindmap/2025年的创业机遇.opml)\n",
      "- [XMind格式](sandbox:/output/mindmap/2025年的创业机遇.xmind)\n",
      "- [MindManager格式](sandbox:/output/mindmap/2025年的创业机遇.mmap)\n",
      "\n",
      "你可以选择适合你的工具来查看和编辑这些思维导图。\u001b[0m\n",
      "\n",
      "\u001b[1m> Finished chain.\u001b[0m\n",
      "\n",
      "生成结果：\n",
      "{'input': \"请生成一个关于'2025年的创业机遇有哪些？多维度说明'的思维导图。\", 'output': '我已经为你生成了关于“2025年的创业机遇有哪些？多维度说明”的思维导图。你可以下载以下格式的文件：\\n\\n- [Freemind格式](sandbox:/output/mindmap/2025年的创业机遇.mm)\\n- [OPML格式](sandbox:/output/mindmap/2025年的创业机遇.opml)\\n- [XMind格式](sandbox:/output/mindmap/2025年的创业机遇.xmind)\\n- [MindManager格式](sandbox:/output/mindmap/2025年的创业机遇.mmap)\\n\\n你可以选择适合你的工具来查看和编辑这些思维导图。'}\n"
     ]
    }
   ],
   "source": [
    "topic = \"2025年的创业机遇有哪些？多维度说明\"\n",
    "result = agent_executor.invoke({\n",
    "    \"input\": f\"请生成一个关于'{topic}'的思维导图。\"\n",
    "})\n",
    "print(\"\\n生成结果：\")\n",
    "print(result)"
   ]
  },
  {
   "cell_type": "code",
   "execution_count": 5,
   "metadata": {},
   "outputs": [
    {
     "name": "stdout",
     "output_type": "stream",
     "text": [
      "\n",
      "\n",
      "\u001b[1m> Entering new AgentExecutor chain...\u001b[0m\n",
      "\u001b[32;1m\u001b[1;3m\n",
      "Invoking: `mindmap_generator` with `{'topic': '个人健康生活指南，多维度说明。'}`\n",
      "\n",
      "\n",
      "\u001b[0m\u001b[36;1m\u001b[1;3m{'freemind': 'output/mindmap\\\\个人健康生活指南.mm', 'opml': 'output/mindmap\\\\个人健康生活指南.opml', 'xmind': 'output/mindmap\\\\个人健康生活指南.xmind', 'mindmanager': 'output/mindmap\\\\个人健康生活指南.mmap'}\u001b[0m\u001b[32;1m\u001b[1;3m我已为您生成了关于“个人健康生活指南，多维度说明”的思维导图。您可以下载以下格式的文件：\n",
      "\n",
      "- [FreeMind 格式](sandbox:/output/mindmap/个人健康生活指南.mm)\n",
      "- [OPML 格式](sandbox:/output/mindmap/个人健康生活指南.opml)\n",
      "- [XMind 格式](sandbox:/output/mindmap/个人健康生活指南.xmind)\n",
      "- [MindManager 格式](sandbox:/output/mindmap/个人健康生活指南.mmap)\n",
      "\n",
      "您可以选择适合您的工具来查看和编辑这些思维导图。\u001b[0m\n",
      "\n",
      "\u001b[1m> Finished chain.\u001b[0m\n",
      "\n",
      "生成结果：\n",
      "{'input': \"请生成一个关于'个人健康生活指南，多维度说明。'的思维导图。\", 'output': '我已为您生成了关于“个人健康生活指南，多维度说明”的思维导图。您可以下载以下格式的文件：\\n\\n- [FreeMind 格式](sandbox:/output/mindmap/个人健康生活指南.mm)\\n- [OPML 格式](sandbox:/output/mindmap/个人健康生活指南.opml)\\n- [XMind 格式](sandbox:/output/mindmap/个人健康生活指南.xmind)\\n- [MindManager 格式](sandbox:/output/mindmap/个人健康生活指南.mmap)\\n\\n您可以选择适合您的工具来查看和编辑这些思维导图。'}\n"
     ]
    }
   ],
   "source": [
    "topic = \"个人健康生活指南，多维度说明。\"\n",
    "result = agent_executor.invoke({\n",
    "    \"input\": f\"请生成一个关于'{topic}'的思维导图。\"\n",
    "})\n",
    "print(\"\\n生成结果：\")\n",
    "print(result)"
   ]
  }
 ],
 "metadata": {
  "kernelspec": {
   "display_name": "langchain_universal_tools",
   "language": "python",
   "name": "python3"
  },
  "language_info": {
   "codemirror_mode": {
    "name": "ipython",
    "version": 3
   },
   "file_extension": ".py",
   "mimetype": "text/x-python",
   "name": "python",
   "nbconvert_exporter": "python",
   "pygments_lexer": "ipython3",
   "version": "3.11.9"
  }
 },
 "nbformat": 4,
 "nbformat_minor": 2
}
